{
 "cells": [
  {
   "cell_type": "markdown",
   "metadata": {},
   "source": [
    "## Ashish Rana\n",
    "#### 3/6/2017\n",
    "#### Project 4 - Advanced Lane Finding\n"
   ]
  },
  {
   "cell_type": "code",
   "execution_count": 1,
   "metadata": {
    "collapsed": false
   },
   "outputs": [],
   "source": [
    "# Get all dependencies\n",
    "import os\n",
    "import matplotlib.image as mpimg\n",
    "import matplotlib.pyplot as plt\n",
    "from moviepy.editor import VideoFileClip\n",
    "from IPython.display import HTML\n",
    "import numpy as np\n",
    "import pandas as pd\n",
    "import pickle\n",
    "import cv2\n",
    "\n",
    "from ipywidgets import widgets\n",
    "from ipywidgets import interact, interactive, IntSlider, FloatSlider\n",
    "from IPython.display import display\n",
    "\n",
    "# This is experimentation with the convolution shown in the Q&A session, It is no used\n",
    "# Because I beleive the window sliding is a better method than convolution with numpy\n",
    "from tracker import tracker\n",
    "\n",
    "%matplotlib inline"
   ]
  },
  {
   "cell_type": "markdown",
   "metadata": {},
   "source": [
    "### Get [mtx] and [dist] from pickled data"
   ]
  },
  {
   "cell_type": "code",
   "execution_count": 2,
   "metadata": {
    "collapsed": false
   },
   "outputs": [],
   "source": [
    "# Calibration data imported from pre-calibrated camera data\n",
    "calibration_data = pickle.load(open(\"./calibration_pickle.p\" , \"rb\"))\n",
    "\n",
    "mtx = calibration_data[\"mtx\"]\n",
    "dist = calibration_data[\"dist\"]\n",
    "\n",
    "# Images for write up and comparison\n",
    "timgs_dir = 'test_images\\\\'\n",
    "timgs = os.listdir(timgs_dir)"
   ]
  },
  {
   "cell_type": "markdown",
   "metadata": {},
   "source": [
    "### Perspective Transform test on Chessboard images"
   ]
  },
  {
   "cell_type": "code",
   "execution_count": 3,
   "metadata": {
    "collapsed": true
   },
   "outputs": [],
   "source": [
    "# Test Perspective transform on chess board images\n",
    "def corners_unwarp(img, nx, ny, mtx, dist):\n",
    "    \n",
    "    # Undistort, Gray scale, and find chess board corners\n",
    "    undist = cv2.undistort(img, mtx, dist, None, mtx)\n",
    "    gray = cv2.cvtColor(undist, cv2.COLOR_BGR2GRAY)\n",
    "    ret, corners = cv2.findChessboardCorners(gray, (nx, ny), None)\n",
    "    \n",
    "    # Draw Corners\n",
    "    if ret == True:\n",
    "        cv2.drawChessboardCorners(undist, (nx, ny), corners, ret)\n",
    "        offset = 100 \n",
    "        img_size = (gray.shape[1], gray.shape[0])\n",
    "\n",
    "        # Perspective transform Source and Destination setup\n",
    "        src = np.float32([corners[0], corners[nx-1], corners[-1], corners[-nx]])\n",
    "        dst = np.float32([[offset, offset], [img_size[0]-offset, offset], \n",
    "                                     [img_size[0]-offset, img_size[1]-offset], \n",
    "                                     [offset, img_size[1]-offset]])\n",
    "        \n",
    "        # Perspective Transform\n",
    "        M = cv2.getPerspectiveTransform(src, dst)\n",
    "        warped = cv2.warpPerspective(undist, M, img_size)\n",
    "    return warped, M"
   ]
  },
  {
   "cell_type": "markdown",
   "metadata": {
    "collapsed": false
   },
   "source": [
    "### Image Processing"
   ]
  },
  {
   "cell_type": "code",
   "execution_count": 4,
   "metadata": {
    "collapsed": false
   },
   "outputs": [],
   "source": [
    "def abs_sobel_thresh(img, orient='x', sobel_kernel=3, thresh=(0, 255)):\n",
    "    # Grayscla image\n",
    "    img = cv2.cvtColor(img, cv2.COLOR_RGB2GRAY)\n",
    "    \n",
    "    # Establish Threshold min and max  as seperate variable for clarity\n",
    "    thresh_min = thresh[0]\n",
    "    thresh_max = thresh[1]\n",
    "    \n",
    "    # Calculate gradient along x and y axis based on requested orientation\n",
    "    if orient == 'x':\n",
    "        abs_sobel = np.absolute(cv2.Sobel(img, cv2.CV_64F, 1, 0))\n",
    "    if orient == 'y':\n",
    "        abs_sobel = np.absolute(cv2.Sobel(img, cv2.CV_64F, 0, 1))\n",
    "    \n",
    "    # Scale to 8bit and define as type unit8\n",
    "    scaled_sobel = np.uint8(255*abs_sobel/np.max(abs_sobel))\n",
    "    \n",
    "    # Create Mask of 1's where the magnitude is within the max and min threshold.\n",
    "    grad_binary = np.zeros_like(scaled_sobel)\n",
    "    grad_binary[(scaled_sobel >= thresh_min) & (scaled_sobel <= thresh_max)] = 1\n",
    "    return grad_binary\n",
    "\n",
    "def mag_thresh(img, sobel_kernel=3, mag_thresh=(0, 255)):\n",
    "    \n",
    "    # grayscale image\n",
    "    img = cv2.cvtColor(img, cv2.COLOR_RGB2GRAY)\n",
    "    \n",
    "    # variables define max min threshold for clarity\n",
    "    thresh_min = mag_thresh[0]\n",
    "    thresh_max = mag_thresh[1]\n",
    "    \n",
    "    # gradient in each direction\n",
    "    sobelx =  cv2.Sobel(img, cv2.CV_64F, 1, 0)\n",
    "    sobely =  cv2.Sobel(img, cv2.CV_64F, 0, 1)\n",
    "    \n",
    "    # magnitude of gradient in each direction\n",
    "    sobelm = np.sqrt(sobelx**2+sobely**2)\n",
    "    \n",
    "    # scale to 8 bit\n",
    "    scaled_sobel = np.uint8(np.max(sobelm)/255)\n",
    "    \n",
    "    # Mask of 1's where the magnitude lies within the max and min threshold.\n",
    "    mag_binary = np.zeros_like(scaled_sobel)\n",
    "    mag_binary[(scaled_sobel >= thresh_min) & (scaled_sobel <= thresh_max)] = 1\n",
    "    return mag_binary\n",
    "\n",
    "def dir_threshold(img, sobel_kernel=3, thresh=(0, np.pi/2)):\n",
    "    # grayscale image\n",
    "    img = cv2.cvtColor(img, cv2.COLOR_RGB2GRAY)\n",
    "    \n",
    "    # gradient in each direction\n",
    "    sobelx = cv2.Sobel(img, cv2.CV_64F, 1, 0, ksize=sobel_kernel)\n",
    "    sobely = cv2.Sobel(img, cv2.CV_64F, 0, 1, ksize=sobel_kernel)\n",
    "    \n",
    "    # Absolute value of graddients in each direction\n",
    "    absSOBx =  np.abs(sobelx)\n",
    "    absSOBy =  np.abs(sobely)\n",
    "    \n",
    "    # get direction gradient\n",
    "    gradmag = np.arctan2(absSOBy,absSOBx) \n",
    "    \n",
    "    # Mask of 1's where the magnitude lies within the max and min threshold.\n",
    "    dir_binary = np.zeros_like(gradmag)\n",
    "    dir_binary[(gradmag >= thresh[0]) & (gradmag <= thresh[1])] = 1\n",
    "    return dir_binary\n",
    "\n",
    "def hls_hsv_threshold(img, sthresh = (0,255), vthresh = (0,255)):\n",
    "    # variables define max min threshold for clarity\n",
    "    sthresh_min = sthresh[0]\n",
    "    sthresh_max = sthresh[1]\n",
    "    \n",
    "    # convert to HLS Space\n",
    "    hls = cv2.cvtColor(img, cv2.COLOR_RGB2HLS)\n",
    "    \n",
    "    # Filter S channel\n",
    "    s_channel = hls[:,:,2]\n",
    "    \n",
    "    # Maks of 1's where magnitude lies within the max and min of thresholds\n",
    "    sbinary_output = np.zeros_like(s_channel)\n",
    "    sbinary_output[(s_channel > sthresh_min) & (s_channel <= sthresh_max)] = 1\n",
    "    \n",
    "    # thresh max and min for HSV\n",
    "    vthresh_min = vthresh[0]\n",
    "    vthresh_max = vthresh[1]\n",
    "    \n",
    "    # convert to HSV Space\n",
    "    hsv = cv2.cvtColor(img, cv2.COLOR_RGB2HSV)\n",
    "    \n",
    "    # Filter V channel\n",
    "    v_channel = hsv[:,:,2]\n",
    "    \n",
    "    # Make of 1's where magnitude lies within the max and min of thresholds\n",
    "    vbinary_output = np.zeros_like(s_channel)\n",
    "    vbinary_output[(v_channel > vthresh_min) & (v_channel <= vthresh_max)] = 1\n",
    "    \n",
    "    # Create mask of 1's where magnitues of S and V channel WERE within thresholds\n",
    "    binary_output = np.zeros_like(s_channel)\n",
    "    binary_output[(sbinary_output==1) & (vbinary_output==1)] = 1\n",
    "    return binary_output\n",
    "\n",
    "def binary_img(image,a,b,c,d,e,f):\n",
    "    # Define Kernel Size\n",
    "    ksize = 15\n",
    "    \n",
    "    # Apply Threshold mins through function input\n",
    "    gradx = abs_sobel_thresh(image, orient='x', sobel_kernel=ksize, thresh=(a, 255))\n",
    "    grady = abs_sobel_thresh(image, orient='y', sobel_kernel=ksize, thresh=(b, 255))\n",
    "    mag_binary = mag_thresh(image, sobel_kernel=ksize, mag_thresh=(c, 255))\n",
    "    dir_binary = dir_threshold(image, sobel_kernel=ksize, thresh=(d, 2.0))\n",
    "    hls_hsv_binary = hls_hsv_threshold(image, sthresh=(e, 255), vthresh=(f, 255))\n",
    "    \n",
    "    # Mask of Gradx And HLS + HSV+ Directional Binaries\n",
    "    combined = np.zeros_like(image[:,:,0])\n",
    "    combined[(  (gradx==1) |  ((hls_hsv_binary == 1)&(dir_binary==1)) )  ] = 100\n",
    "    return combined\n",
    "\n",
    "# This is an experimental function for future experimentation with the Convolution method.\n",
    "# So far the Convolutional method did not yield good results so the Histogram Peaks + Window \n",
    "# Sliding is used.\n",
    "def window_mask(width, height, img_ref, center,level):\n",
    "    output = np.zeros_like(img_ref)\n",
    "    output[int(img_ref.shape[0]-(level+1)*height):int(img_ref.shape[0]-level*height),max(0,int(center-width/2)):min(int(center+width/2),img_ref.shape[1])] = 1\n",
    "    return output\n"
   ]
  },
  {
   "cell_type": "code",
   "execution_count": 5,
   "metadata": {
    "collapsed": false
   },
   "outputs": [
    {
     "name": "stderr",
     "output_type": "stream",
     "text": [
      "Widget Javascript not detected.  It may not be installed properly. Did you enable the widgetsnbextension? If not, then run \"jupyter nbextension enable --py --sys-prefix widgetsnbextension\"\n",
      "Widget Javascript not detected.  It may not be installed properly. Did you enable the widgetsnbextension? If not, then run \"jupyter nbextension enable --py --sys-prefix widgetsnbextension\"\n",
      "Widget Javascript not detected.  It may not be installed properly. Did you enable the widgetsnbextension? If not, then run \"jupyter nbextension enable --py --sys-prefix widgetsnbextension\"\n",
      "Widget Javascript not detected.  It may not be installed properly. Did you enable the widgetsnbextension? If not, then run \"jupyter nbextension enable --py --sys-prefix widgetsnbextension\"\n"
     ]
    }
   ],
   "source": [
    "# Method used to tune parameters before creating functions.\n",
    "# Easier to tune with a slider GUI interface.\n",
    "a = widgets.IntSlider(value =20 ,min=0,max=100,step=1,description='gradx Thresh min:')\n",
    "b = widgets.IntSlider(value =1 ,min=0,max=50,step=1,description='grady Thresh min:')\n",
    "c = widgets.IntSlider(value =0 ,min=0,max=5,step=1,description='mag Thresh min:')\n",
    "d = widgets.FloatSlider(value =0.5 ,min=0,max=2.0,step=.05,description='dir Thresh min:')\n",
    "e = widgets.IntSlider(value =100 ,min=0,max=255,step=1,description='s Thresh min:')\n",
    "f = widgets.IntSlider(value =200 ,min=0,max=255,step=1,description='v Thresh min:')\n",
    "\n",
    "# Displaying the variables used\n",
    "display(a,d,e,f)\n"
   ]
  },
  {
   "cell_type": "code",
   "execution_count": 6,
   "metadata": {
    "collapsed": false
   },
   "outputs": [],
   "source": [
    "# Functions below are closely following lessons provided by Udacity \n",
    "\n",
    "# *** At this moment there is a redundancy, Blind and a Marginalized Search is being used\n",
    "# *** for the purposes of this project and to meet time constraints. Future work will introduce\n",
    "# *** a OOP format and will attempt to introduce classes for image processing and lane detection\n",
    "# *** to create a Finished Product. The purpose of this is to demonstrate functionality.\n",
    "\n",
    "# Below is a list of funtions in this block and their utility\n",
    "        # binary_warp()\n",
    "            # Used to apply binary filters on undistorted images\n",
    "            # A Section of the road is transformed\n",
    "            \n",
    "        # first_search()\n",
    "            # Histograms are considered at 9 rectangular slices or Rows\n",
    "            # Peaks of these histograms are used to determine a line point\n",
    "            # This is a blind search\n",
    "            \n",
    "        # visualize_first_search()\n",
    "            # This is purely for reporting/demonstrating what the search looks like once done\n",
    "            \n",
    "        # line_search_margin()\n",
    "            # Using the points from Blind Search this constrains the search within a margin\n",
    "            # Primary difference being the entire row is not searched\n",
    "            # Then lines are Drawn using the point data\n",
    "            \n",
    "        # lanes()\n",
    "            # This function complies all other function and writes the Radius of Curvature \n",
    "            # and Center Offset\n",
    "            \n",
    "# Distortion Correction from the Pickle data\n",
    "def binary_warp(image, mtx, dist):\n",
    "    # Data is used globally\n",
    "    global src, dst\n",
    "    a,b,c,d,e,f = 20,1,0,0.5,100,200\n",
    "    \n",
    "    # Undistort\n",
    "    image = cv2.undistort(image, mtx, dist, None, mtx)\n",
    "    \n",
    "    # Apply selected filter and return binary\n",
    "    binary_warped = binary_img(image,a,b,c,d,e,f)\n",
    "\n",
    "    # Eastblish percentage of area of interest\n",
    "    bot_width = 0.78\n",
    "    mid_width = 0.08\n",
    "    height_pct  = 0.62\n",
    "    bottom_trim = 0.935\n",
    "    offset = 100\n",
    "    \n",
    "    cnst_pct = 0.51\n",
    "    \n",
    "    # Source and destination points for the \n",
    "    img_size =  image.shape[1],image.shape[0]\n",
    "    src  = np.float32([[  image.shape[1]*(cnst_pct-mid_width/2), image.shape[0]*height_pct],\\\n",
    "                       [  image.shape[1]*(cnst_pct+mid_width/2), image.shape[0]*height_pct],\\\n",
    "                       [  image.shape[1]*(cnst_pct-bot_width/2), image.shape[0]*bottom_trim],\\\n",
    "                       [  image.shape[1]*(cnst_pct+bot_width/2), image.shape[0]*bottom_trim] ])\n",
    "\n",
    "    dst = np.float32([[offset, 0],\\\n",
    "                      [ img_size[0]-offset, 0],\\\n",
    "                      [offset,  img_size[1]],\\\n",
    "                      [img_size[0]-offset, img_size[1]]])\n",
    "\n",
    "    # Transform image after applying binary filters \n",
    "    M = cv2.getPerspectiveTransform(src,dst)\n",
    "    Minv = cv2.getPerspectiveTransform(dst,src)\n",
    "    binary_warped = cv2.warpPerspective(binary_warped, M, img_size, flags=cv2.INTER_LINEAR)\n",
    "    plt.imshow(binary_warped,cmap='gray')\n",
    "    \n",
    "    # Return Binary warped\n",
    "    return binary_warped\n",
    "\n",
    "\n",
    "def first_search(binary_warped):\n",
    "    # Cut in half at Y-Axis and get the histogram along the X-Axis\n",
    "    histogram = np.sum(binary_warped[int(binary_warped.shape[0]/2):,:], axis=0)\n",
    "    \n",
    "    # Create an output image to draw on and  visualize the result\n",
    "    out_img = np.dstack((binary_warped, binary_warped, binary_warped))*255\n",
    "    \n",
    "    # Find the peak of the left and right halves of the histogram\n",
    "    # These will be the starting point for the left and right lines\n",
    "    midpoint = np.int(histogram.shape[0]/2)\n",
    "    leftx_base = np.argmax(histogram[:midpoint])\n",
    "    rightx_base = np.argmax(histogram[midpoint:]) + midpoint\n",
    "\n",
    "    # Number of sliding windows\n",
    "    nwindows = 9\n",
    "    # Set height of windows\n",
    "    window_height = np.int(binary_warped.shape[0]/nwindows)\n",
    "    # Identify the x and y positions of all nonzero pixels in the image\n",
    "    nonzero = binary_warped.nonzero()\n",
    "    nonzeroy = np.array(nonzero[0])\n",
    "    nonzerox = np.array(nonzero[1])\n",
    "    # Current positions to be updated for each window\n",
    "    leftx_current = leftx_base\n",
    "    rightx_current = rightx_base\n",
    "    # Set the width of the windows +/- margin\n",
    "    margin = 100\n",
    "    # Set minimum number of pixels found to recenter window\n",
    "    minpix = 50\n",
    "    # Create empty lists to receive left and right lane pixel indices\n",
    "    left_lane_inds = []\n",
    "    right_lane_inds = []\n",
    "\n",
    "    # Step through the windows one by one\n",
    "    for window in range(nwindows):\n",
    "        # Identify window boundaries in x and y (and right and left)\n",
    "        win_y_low = binary_warped.shape[0] - (window+1)*window_height\n",
    "        win_y_high = binary_warped.shape[0] - window*window_height\n",
    "        win_xleft_low = leftx_current - margin\n",
    "        win_xleft_high = leftx_current + margin\n",
    "        win_xright_low = rightx_current - margin\n",
    "        win_xright_high = rightx_current + margin\n",
    "        # Draw the windows on the visualization image\n",
    "        cv2.rectangle(out_img,(win_xleft_low,win_y_low),(win_xleft_high,win_y_high),(0,255,0), 2) \n",
    "        cv2.rectangle(out_img,(win_xright_low,win_y_low),(win_xright_high,win_y_high),(0,255,0), 2) \n",
    "        # Identify the nonzero pixels in x and y within the window\n",
    "        good_left_inds = ((nonzeroy >= win_y_low) & (nonzeroy < win_y_high) & (nonzerox >= win_xleft_low) & (nonzerox < win_xleft_high)).nonzero()[0]\n",
    "        good_right_inds = ((nonzeroy >= win_y_low) & (nonzeroy < win_y_high) & (nonzerox >= win_xright_low) & (nonzerox < win_xright_high)).nonzero()[0]\n",
    "        # Append these indices to the lists\n",
    "        left_lane_inds.append(good_left_inds)\n",
    "        right_lane_inds.append(good_right_inds)\n",
    "        # If you found > minpix pixels, recenter next window on their mean position\n",
    "        if len(good_left_inds) > minpix:\n",
    "            leftx_current = np.int(np.mean(nonzerox[good_left_inds]))\n",
    "        if len(good_right_inds) > minpix:        \n",
    "            rightx_current = np.int(np.mean(nonzerox[good_right_inds]))\n",
    "\n",
    "    # Concatenate the arrays of indices\n",
    "    left_lane_inds = np.concatenate(left_lane_inds)\n",
    "    right_lane_inds = np.concatenate(right_lane_inds)\n",
    "\n",
    "    # Extract left and right line pixel positions\n",
    "    leftx = nonzerox[left_lane_inds]\n",
    "    lefty = nonzeroy[left_lane_inds] \n",
    "    rightx = nonzerox[right_lane_inds]\n",
    "    righty = nonzeroy[right_lane_inds] \n",
    "\n",
    "    # Fit a second order polynomial to each\n",
    "    left_fit = np.polyfit(lefty, leftx, 2)\n",
    "    right_fit = np.polyfit(righty, rightx, 2)\n",
    "    \n",
    "    return left_fit, right_fit, left_lane_inds, right_lane_inds, out_img, nonzero, nonzerox, nonzeroy\n",
    "\n",
    "def visualize_first_search(out_img, nonzerox, nonzeroy):\n",
    "    # Generate x and y values for plotting\n",
    "    ploty = np.linspace(0, binary_warped.shape[0]-1, binary_warped.shape[0] )\n",
    "    left_fitx = left_fit[0]*ploty**2 + left_fit[1]*ploty + left_fit[2]\n",
    "    right_fitx = right_fit[0]*ploty**2 + right_fit[1]*ploty + right_fit[2]\n",
    "    \n",
    "    # Color selected lanes\n",
    "    out_img[nonzeroy[left_lane_inds], nonzerox[left_lane_inds]] = [255, 0, 0]\n",
    "    out_img[nonzeroy[right_lane_inds], nonzerox[right_lane_inds]] = [0, 0, 255]\n",
    "    \n",
    "    plt.imshow(out_img)\n",
    "    plt.plot(left_fitx, ploty, color='yellow')\n",
    "    plt.plot(right_fitx, ploty, color='yellow')\n",
    "    plt.xlim(0, 1280)\n",
    "    plt.ylim(720, 0)\n",
    "    return\n",
    "\n",
    "def line_search_margin(binary_warped, left_lane_inds, right_lane_inds, left_fit, right_fit):\n",
    "    # Get a new warped binary image \n",
    "    nonzero = binary_warped.nonzero()\n",
    "    nonzeroy = np.array(nonzero[0])\n",
    "    nonzerox = np.array(nonzero[1])\n",
    "    margin = 50\n",
    "    left_lane_inds = ((nonzerox > (left_fit[0]*(nonzeroy**2) + left_fit[1]*nonzeroy + left_fit[2] - margin)) & (nonzerox < (left_fit[0]*(nonzeroy**2) + left_fit[1]*nonzeroy + left_fit[2] + margin))) \n",
    "    right_lane_inds = ((nonzerox > (right_fit[0]*(nonzeroy**2) + right_fit[1]*nonzeroy + right_fit[2] - margin)) & (nonzerox < (right_fit[0]*(nonzeroy**2) + right_fit[1]*nonzeroy + right_fit[2] + margin)))  \n",
    "\n",
    "    # Again, extract left and right line pixel positions\n",
    "    leftx = nonzerox[left_lane_inds]\n",
    "    lefty = nonzeroy[left_lane_inds] \n",
    "    rightx = nonzerox[right_lane_inds]\n",
    "    righty = nonzeroy[right_lane_inds]\n",
    "    # Fit a second order polynomial to each\n",
    "    left_fit = np.polyfit(lefty, leftx, 2)\n",
    "    right_fit = np.polyfit(righty, rightx, 2)\n",
    "    # Generate x and y values for plotting\n",
    "    ploty = np.linspace(0, binary_warped.shape[0]-1, binary_warped.shape[0] )\n",
    "    left_fitx = left_fit[0]*ploty**2 + left_fit[1]*ploty + left_fit[2]\n",
    "    right_fitx = right_fit[0]*ploty**2 + right_fit[1]*ploty + right_fit[2]\n",
    "    \n",
    "    out_img = np.dstack((binary_warped, binary_warped, binary_warped))*255\n",
    "    window_img = np.zeros_like(out_img)\n",
    "    # Color in left and right line pixels\n",
    "    out_img[nonzeroy[left_lane_inds], nonzerox[left_lane_inds]] = [255, 0, 0]\n",
    "    out_img[nonzeroy[right_lane_inds], nonzerox[right_lane_inds]] = [0, 0, 255]\n",
    "\n",
    "    # select points from left most side of the Left Lane margin to the right most side of the Left Lane Margin\n",
    "    left_line_window1 = np.array([np.transpose(np.vstack([left_fitx-margin, ploty]))])\n",
    "    left_line_window2 = np.array([np.flipud(np.transpose(np.vstack([left_fitx+margin, ploty])))])\n",
    "    left_line_pts = np.hstack((left_line_window1, left_line_window2))\n",
    "    \n",
    "    # select points from left most side of the Right Lane margin to the right most side of the Right Lane Margin\n",
    "    right_line_window1 = np.array([np.transpose(np.vstack([right_fitx-margin, ploty]))])\n",
    "    right_line_window2 = np.array([np.flipud(np.transpose(np.vstack([right_fitx+margin, ploty])))])\n",
    "    right_line_pts = np.hstack((right_line_window1, right_line_window2))\n",
    "    \n",
    "    # Select points from right side of Left Lane Margin and left side of right lane marign\n",
    "    mid_line_window1 = np.array([np.transpose(np.vstack([left_fitx+margin/4, ploty]))])\n",
    "    mid_line_window2 = np.array([np.flipud(np.transpose(np.vstack([right_fitx-margin/4, ploty])))])\n",
    "    mid_line_pts = np.hstack((mid_line_window1,mid_line_window2))\n",
    "    \n",
    "    \n",
    "    # Draw the lane onto the warped blank image\n",
    "    cv2.fillPoly(window_img, np.int_([left_line_pts]), (255,50, 100))\n",
    "    cv2.fillPoly(window_img, np.int_([right_line_pts]), (255,50, 100))\n",
    "    cv2.fillPoly(window_img, np.int_([mid_line_pts]), (0,150,255))\n",
    "    result = cv2.addWeighted(out_img, 1, window_img, 0.3, 0)\n",
    "    \n",
    "    # Return selected variables for plotting and calculations\n",
    "    return result, left_lane_inds,right_lane_inds, left_fitx, right_fitx, ploty\n",
    "\n",
    "\n",
    "def lanes(image):\n",
    "    # Correct distortion\n",
    "    binary_warped = binary_warp(image, mtx, dist)\n",
    "    # Get first line\n",
    "    left_fit, right_fit, left_lane_inds, right_lane_inds, out_img, nonzero, nonzerox, nonzeroy = first_search(binary_warped)\n",
    "    \n",
    "    # Function to plot lines in margin boxes\n",
    "    # Visualize_first_search(out_img, nonzerox, nonzeroy)\n",
    "    \n",
    "    # Get line within a Margin *** This is a knwon redundancy, left here to show both functions\n",
    "    # are infact working, logic will be introduced when an attempt is made to produce a \"Product\".\n",
    "    # This will be done using OOP\n",
    "    result, left_lane_inds, right_lane_inds, left_fitx, right_fitx, ploty = line_search_margin(binary_warped, left_lane_inds, right_lane_inds, left_fit, right_fit)\n",
    "\n",
    "    # Warp Perspective back with lines drawn\n",
    "    img_size =  image.shape[1],image.shape[0]\n",
    "    Minv = cv2.getPerspectiveTransform(dst,src)\n",
    "    road_warped =  cv2.warpPerspective(result, Minv, img_size, flags = cv2.INTER_LINEAR)\n",
    "    result = cv2.addWeighted(image, 1.0, road_warped, 1.5, 0.0)\n",
    "    \n",
    "    # Calculate Radius of Curvature\n",
    "    quadratic_coeff = 3e-4 # arbitrary quadratic coefficient\n",
    "    leftx = np.array([left_fitx[-1] + (y**2)*quadratic_coeff + np.random.randint(-50, high=51) for y in ploty])\n",
    "    rightx = np.array([right_fitx[-1] + (y**2)*quadratic_coeff + np.random.randint(-50, high=51) for y in ploty])\n",
    "    \n",
    "    # Max Y-Values\n",
    "    y_eval = np.max(ploty)\n",
    "    \n",
    "    ym_per_pix = 30/720 # meters per pixel in y dimension\n",
    "    xm_per_pix = 3.7/700 # meters per pixel in x dimension\n",
    "    \n",
    "    # Camera Offset calculation\n",
    "    camera_center = (left_fitx[-1] + right_fitx[-1])/2\n",
    "    center_diff = (camera_center-binary_warped.shape[1]/2)*xm_per_pix\n",
    "    \n",
    "    # Word choice based on camera offset\n",
    "    side_pos = ' left'\n",
    "    if center_diff <= 0:\n",
    "        side_pos = ' right'\n",
    "        \n",
    "    # Fit new polynomials to x,y in world space\n",
    "    left_fit_cr = np.polyfit(ploty*ym_per_pix, leftx*xm_per_pix, 2)\n",
    "    right_fit_cr = np.polyfit(ploty*ym_per_pix, rightx*xm_per_pix, 2)\n",
    "    # Calculate the new radii of curvature\n",
    "    left_curverad = ((1 + (2*left_fit[0]*y_eval + left_fit[1])**2)**1.5) / np.absolute(2*left_fit[0])\n",
    "    right_curverad = ((1 + (2*right_fit[0]*y_eval + right_fit[1])**2)**1.5) / np.absolute(2*right_fit[0])\n",
    "    \n",
    "    # Write Radius of curvature measurement and Vehicle leaning orientation\n",
    "    cv2.putText(result, 'Radius of Curvature = ' + str(round((left_curverad+right_curverad)/2,3))+'(m)',(50,50), cv2.FONT_HERSHEY_COMPLEX, 1,(255,255,255),2)\n",
    "    cv2.putText(result, 'Vehicle is = ' + str(abs(round(center_diff,3)))+'m' +side_pos+ ' of center',(50,100), cv2.FONT_HERSHEY_COMPLEX, 1,(255,255,255),2)\n",
    "    return result"
   ]
  },
  {
   "cell_type": "code",
   "execution_count": 7,
   "metadata": {
    "collapsed": false
   },
   "outputs": [
    {
     "name": "stdout",
     "output_type": "stream",
     "text": [
      "[MoviePy] >>>> Building video output_vid.mp4\n",
      "[MoviePy] Writing video output_vid.mp4\n"
     ]
    },
    {
     "name": "stderr",
     "output_type": "stream",
     "text": [
      "100%|█████████████████████████████████████████████████████████████████████████████▉| 1260/1261 [04:28<00:00,  4.63it/s]\n"
     ]
    },
    {
     "name": "stdout",
     "output_type": "stream",
     "text": [
      "[MoviePy] Done.\n",
      "[MoviePy] >>>> Video ready: output_vid.mp4 \n",
      "\n"
     ]
    },
    {
     "data": {
      "image/png": "[encoded data removed]",
      "text/plain": [
       "<matplotlib.figure.Figure at 0x23e17882940>"
      ]
     },
     "metadata": {},
     "output_type": "display_data"
    }
   ],
   "source": [
    "# Process Video with one simple Function\n",
    "output_video = 'output_vid.mp4'\n",
    "inp = 'project_video.mp4'\n",
    "\n",
    "clip1 = VideoFileClip('project_video.mp4')\n",
    "video_clip = clip1.fl_image(lanes)\n",
    "video_clip.write_videofile(output_video, audio=False)\n",
    "\n"
   ]
  }
 ],
 "metadata": {
  "anaconda-cloud": {},
  "kernelspec": {
   "display_name": "Python [conda root]",
   "language": "python",
   "name": "conda-root-py"
  },
  "language_info": {
   "codemirror_mode": {
    "name": "ipython",
    "version": 3
   },
   "file_extension": ".py",
   "mimetype": "text/x-python",
   "name": "python",
   "nbconvert_exporter": "python",
   "pygments_lexer": "ipython3",
   "version": "3.5.2"
  },
  "widgets": {
   "state": {
    "4445797f19a245bfad9a83073378db92": {
     "views": [
      {
       "cell_index": 8
      }
     ]
    },
    "8d2d2a41b6304555bc4b6906c78dcc16": {
     "views": [
      {
       "cell_index": 8
      }
     ]
    },
    "940bfe62ceec43c99e37fe9443b84ee9": {
     "views": [
      {
       "cell_index": 8
      }
     ]
    },
    "c747255993654c0ab6baf3807b418870": {
     "views": [
      {
       "cell_index": 8
      }
     ]
    },
    "d1f425bb95bf482da9b6f8d0fa631f67": {
     "views": [
      {
       "cell_index": 8
      }
     ]
    },
    "e33438947ea74475abc9242c173892a4": {
     "views": [
      {
       "cell_index": 8
      }
     ]
    }
   },
   "version": "1.2.0"
  }
 },
 "nbformat": 4,
 "nbformat_minor": 1
}
