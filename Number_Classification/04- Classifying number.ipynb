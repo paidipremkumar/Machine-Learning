{
 "cells": [
  {
   "cell_type": "markdown",
   "metadata": {},
   "source": [
    "# Classifier name "
   ]
  },
  {
   "cell_type": "markdown",
   "metadata": {},
   "source": [
    "Step -1 :import datascience libraries"
   ]
  },
  {
   "cell_type": "code",
   "execution_count": 1,
   "metadata": {},
   "outputs": [],
   "source": [
    "import numpy as np\n",
    "import pandas as pd\n",
    "import matplotlib.pyplot as plt\n",
    "%matplotlib inline"
   ]
  },
  {
   "cell_type": "markdown",
   "metadata": {},
   "source": [
    "**Step-2: Load Dataset**"
   ]
  },
  {
   "cell_type": "code",
   "execution_count": 2,
   "metadata": {},
   "outputs": [],
   "source": [
    "from sklearn.datasets import load_digits"
   ]
  },
  {
   "cell_type": "code",
   "execution_count": 3,
   "metadata": {},
   "outputs": [],
   "source": [
    "digits = load_digits()"
   ]
  },
  {
   "cell_type": "code",
   "execution_count": 4,
   "metadata": {},
   "outputs": [
    {
     "data": {
      "text/plain": [
       "dict_keys(['data', 'target', 'target_names', 'images', 'DESCR'])"
      ]
     },
     "execution_count": 4,
     "metadata": {},
     "output_type": "execute_result"
    }
   ],
   "source": [
    "digits.keys()"
   ]
  },
  {
   "cell_type": "code",
   "execution_count": 5,
   "metadata": {},
   "outputs": [
    {
     "name": "stdout",
     "output_type": "stream",
     "text": [
      "Optical Recognition of Handwritten Digits Data Set\n",
      "===================================================\n",
      "\n",
      "Notes\n",
      "-----\n",
      "Data Set Characteristics:\n",
      "    :Number of Instances: 5620\n",
      "    :Number of Attributes: 64\n",
      "    :Attribute Information: 8x8 image of integer pixels in the range 0..16.\n",
      "    :Missing Attribute Values: None\n",
      "    :Creator: E. Alpaydin (alpaydin '@' boun.edu.tr)\n",
      "    :Date: July; 1998\n",
      "\n",
      "This is a copy of the test set of the UCI ML hand-written digits datasets\n",
      "http://archive.ics.uci.edu/ml/datasets/Optical+Recognition+of+Handwritten+Digits\n",
      "\n",
      "The data set contains images of hand-written digits: 10 classes where\n",
      "each class refers to a digit.\n",
      "\n",
      "Preprocessing programs made available by NIST were used to extract\n",
      "normalized bitmaps of handwritten digits from a preprinted form. From a\n",
      "total of 43 people, 30 contributed to the training set and different 13\n",
      "to the test set. 32x32 bitmaps are divided into nonoverlapping blocks of\n",
      "4x4 and the number of on pixels are counted in each block. This generates\n",
      "an input matrix of 8x8 where each element is an integer in the range\n",
      "0..16. This reduces dimensionality and gives invariance to small\n",
      "distortions.\n",
      "\n",
      "For info on NIST preprocessing routines, see M. D. Garris, J. L. Blue, G.\n",
      "T. Candela, D. L. Dimmick, J. Geist, P. J. Grother, S. A. Janet, and C.\n",
      "L. Wilson, NIST Form-Based Handprint Recognition System, NISTIR 5469,\n",
      "1994.\n",
      "\n",
      "References\n",
      "----------\n",
      "  - C. Kaynak (1995) Methods of Combining Multiple Classifiers and Their\n",
      "    Applications to Handwritten Digit Recognition, MSc Thesis, Institute of\n",
      "    Graduate Studies in Science and Engineering, Bogazici University.\n",
      "  - E. Alpaydin, C. Kaynak (1998) Cascading Classifiers, Kybernetika.\n",
      "  - Ken Tang and Ponnuthurai N. Suganthan and Xi Yao and A. Kai Qin.\n",
      "    Linear dimensionalityreduction using relevance weighted LDA. School of\n",
      "    Electrical and Electronic Engineering Nanyang Technological University.\n",
      "    2005.\n",
      "  - Claudio Gentile. A New Approximate Maximal Margin Classification\n",
      "    Algorithm. NIPS. 2000.\n",
      "\n"
     ]
    }
   ],
   "source": [
    "print(digits.DESCR)"
   ]
  },
  {
   "cell_type": "code",
   "execution_count": 6,
   "metadata": {},
   "outputs": [],
   "source": [
    "X = digits.data # independent varible \n",
    "y = digits.target # dependent varible"
   ]
  },
  {
   "cell_type": "markdown",
   "metadata": {},
   "source": [
    "each row is an image"
   ]
  },
  {
   "cell_type": "code",
   "execution_count": 7,
   "metadata": {},
   "outputs": [
    {
     "name": "stdout",
     "output_type": "stream",
     "text": [
      "(1797, 64)\n",
      "[[ 0.  0.  5. ...  0.  0.  0.]\n",
      " [ 0.  0.  0. ... 10.  0.  0.]\n",
      " [ 0.  0.  0. ... 16.  9.  0.]\n",
      " ...\n",
      " [ 0.  0.  1. ...  6.  0.  0.]\n",
      " [ 0.  0.  2. ... 12.  0.  0.]\n",
      " [ 0.  0. 10. ... 12.  1.  0.]]\n"
     ]
    }
   ],
   "source": [
    "print(X.shape)\n",
    "print(X)"
   ]
  },
  {
   "cell_type": "code",
   "execution_count": 8,
   "metadata": {},
   "outputs": [],
   "source": [
    "# Converting into binary  image --> Thresholding\n",
    "X[X > 7] = X.max()\n",
    "X[X<= 7] = X.min()\n",
    "# Normalizing\n",
    "X = X / X.max()"
   ]
  },
  {
   "cell_type": "code",
   "execution_count": 9,
   "metadata": {},
   "outputs": [
    {
     "data": {
      "text/plain": [
       "((1797, 64), (1797,))"
      ]
     },
     "execution_count": 9,
     "metadata": {},
     "output_type": "execute_result"
    }
   ],
   "source": [
    "X.shape,  y.shape"
   ]
  },
  {
   "cell_type": "code",
   "execution_count": 10,
   "metadata": {},
   "outputs": [],
   "source": [
    "img = X[0:1]"
   ]
  },
  {
   "cell_type": "code",
   "execution_count": 11,
   "metadata": {},
   "outputs": [
    {
     "name": "stdout",
     "output_type": "stream",
     "text": [
      "[0]\n"
     ]
    },
    {
     "data": {
      "text/plain": [
       "<matplotlib.image.AxesImage at 0x21e607ea90>"
      ]
     },
     "execution_count": 11,
     "metadata": {},
     "output_type": "execute_result"
    },
    {
     "data": {
      "image/png": "[encoded data removed]",
      "text/plain": [
       "<matplotlib.figure.Figure at 0x21e630b748>"
      ]
     },
     "metadata": {},
     "output_type": "display_data"
    }
   ],
   "source": [
    "print(y[0:1])\n",
    "plt.imshow(img.reshape((8,8)),cmap = 'gray')\n"
   ]
  },
  {
   "cell_type": "markdown",
   "metadata": {},
   "source": [
    "** Step 4 Splitting Data into traning and testing **"
   ]
  },
  {
   "cell_type": "code",
   "execution_count": 12,
   "metadata": {},
   "outputs": [
    {
     "name": "stderr",
     "output_type": "stream",
     "text": [
      "C:\\Users\\srikanth\\Anaconda\\lib\\site-packages\\sklearn\\cross_validation.py:41: DeprecationWarning: This module was deprecated in version 0.18 in favor of the model_selection module into which all the refactored classes and functions are moved. Also note that the interface of the new CV iterators are different from that of this module. This module will be removed in 0.20.\n",
      "  \"This module will be removed in 0.20.\", DeprecationWarning)\n"
     ]
    }
   ],
   "source": [
    "from sklearn.cross_validation import train_test_split"
   ]
  },
  {
   "cell_type": "code",
   "execution_count": 13,
   "metadata": {},
   "outputs": [],
   "source": [
    "x_train , x_test, y_train, y_test = train_test_split(X, y,\n",
    "                                                     test_size = 0.2,\n",
    "                                                    random_state = 0)"
   ]
  },
  {
   "cell_type": "code",
   "execution_count": 14,
   "metadata": {},
   "outputs": [
    {
     "data": {
      "text/plain": [
       "((1437, 64), (360, 64), (1437,), (360,))"
      ]
     },
     "execution_count": 14,
     "metadata": {},
     "output_type": "execute_result"
    }
   ],
   "source": [
    "x_train.shape, x_test.shape, y_train.shape, y_test.shape"
   ]
  },
  {
   "cell_type": "markdown",
   "metadata": {},
   "source": [
    "### Step 5:  Building Machine Learning classifier or model"
   ]
  },
  {
   "cell_type": "code",
   "execution_count": 15,
   "metadata": {},
   "outputs": [],
   "source": [
    "from sklearn.linear_model import LogisticRegression\n",
    "from sklearn.neighbors import KNeighborsClassifier\n",
    "from sklearn.svm import SVC\n",
    "from sklearn.tree import DecisionTreeClassifier\n",
    "from sklearn.ensemble import RandomForestClassifier"
   ]
  },
  {
   "cell_type": "code",
   "execution_count": 16,
   "metadata": {},
   "outputs": [],
   "source": [
    "model_log = LogisticRegression(C = 10.0)\n",
    "model_knn = KNeighborsClassifier(n_neighbors=3)\n",
    "model_svm = SVC(C = 10.0,probability=True) \n",
    "model_dt = DecisionTreeClassifier()\n",
    "model_rf = RandomForestClassifier(n_estimators=100)"
   ]
  },
  {
   "cell_type": "markdown",
   "metadata": {},
   "source": [
    "traning model"
   ]
  },
  {
   "cell_type": "code",
   "execution_count": 17,
   "metadata": {},
   "outputs": [
    {
     "data": {
      "text/plain": [
       "RandomForestClassifier(bootstrap=True, class_weight=None, criterion='gini',\n",
       "            max_depth=None, max_features='auto', max_leaf_nodes=None,\n",
       "            min_impurity_decrease=0.0, min_impurity_split=None,\n",
       "            min_samples_leaf=1, min_samples_split=2,\n",
       "            min_weight_fraction_leaf=0.0, n_estimators=100, n_jobs=1,\n",
       "            oob_score=False, random_state=None, verbose=0,\n",
       "            warm_start=False)"
      ]
     },
     "execution_count": 17,
     "metadata": {},
     "output_type": "execute_result"
    }
   ],
   "source": [
    "model_log.fit(x_train, y_train) # training model\n",
    "model_knn.fit(x_train, y_train) # training model\n",
    "model_svm.fit(x_train, y_train) # training model\n",
    "model_dt.fit(x_train, y_train) # training model\n",
    "model_rf.fit(x_train, y_train) # training model"
   ]
  },
  {
   "cell_type": "markdown",
   "metadata": {},
   "source": [
    "**Step -6 :Evaluation model**"
   ]
  },
  {
   "cell_type": "code",
   "execution_count": 18,
   "metadata": {},
   "outputs": [],
   "source": [
    "y_pred_log = model_log.predict(x_test) # we use this for evaluation\n",
    "y_pred_knn = model_knn.predict(x_test) # we use this for evaluation\n",
    "y_pred_svm = model_svm.predict(x_test) # we use this for evaluation\n",
    "y_pred_dt = model_dt.predict(x_test) # we use this for evaluation\n",
    "y_pred_rf = model_rf.predict(x_test) # we use this for evaluation\n"
   ]
  },
  {
   "cell_type": "markdown",
   "metadata": {},
   "source": [
    "***classification metrics**"
   ]
  },
  {
   "cell_type": "code",
   "execution_count": 19,
   "metadata": {},
   "outputs": [],
   "source": [
    "from sklearn.metrics import confusion_matrix, classification_report"
   ]
  },
  {
   "cell_type": "code",
   "execution_count": 20,
   "metadata": {},
   "outputs": [],
   "source": [
    "cm_log = confusion_matrix(y_test, y_pred_log) # confusion matrix\n",
    "cm_knn = confusion_matrix(y_test, y_pred_knn) # confusion matrix\n",
    "cm_svm = confusion_matrix(y_test, y_pred_svm) # confusion matrix\n",
    "cm_dt = confusion_matrix(y_test, y_pred_dt) # confusion matrix\n",
    "cm_rf = confusion_matrix(y_test, y_pred_rf) # confusion matrix\n",
    "\n",
    "cr_log = classification_report(y_test, y_pred_log) # classification report\n",
    "cr_knn = classification_report(y_test, y_pred_knn) # classification report\n",
    "cr_svm = classification_report(y_test, y_pred_svm) # classification report\n",
    "cr_dt = classification_report(y_test, y_pred_dt) # classification report\n",
    "cr_rf = classification_report(y_test, y_pred_rf) # classification report"
   ]
  },
  {
   "cell_type": "code",
   "execution_count": 21,
   "metadata": {},
   "outputs": [],
   "source": [
    "import seaborn as sns"
   ]
  },
  {
   "cell_type": "code",
   "execution_count": 22,
   "metadata": {},
   "outputs": [
    {
     "data": {
      "image/png": "[encoded data removed]",
      "text/plain": [
       "<matplotlib.figure.Figure at 0x21e8b2a748>"
      ]
     },
     "metadata": {},
     "output_type": "display_data"
    },
    {
     "data": {
      "image/png": "[encoded data removed]",
      "text/plain": [
       "<matplotlib.figure.Figure at 0x21e6098c18>"
      ]
     },
     "metadata": {},
     "output_type": "display_data"
    },
    {
     "data": {
      "image/png": "[encoded data removed]",
      "text/plain": [
       "<matplotlib.figure.Figure at 0x21e93cdba8>"
      ]
     },
     "metadata": {},
     "output_type": "display_data"
    },
    {
     "data": {
      "image/png": "[encoded data removed]",
      "text/plain": [
       "<matplotlib.figure.Figure at 0x21e9542400>"
      ]
     },
     "metadata": {},
     "output_type": "display_data"
    },
    {
     "data": {
      "image/png": "[encoded data removed]",
      "text/plain": [
       "<matplotlib.figure.Figure at 0x21e8bf3c50>"
      ]
     },
     "metadata": {},
     "output_type": "display_data"
    }
   ],
   "source": [
    "sns.heatmap(cm_log,annot=True,cbar=None,cmap = 'summer')\n",
    "plt.title('Logistic Regression')\n",
    "plt.show()\n",
    "sns.heatmap(cm_knn,annot=True,cbar=None,cmap = 'spring')\n",
    "plt.title('K Nearest Neighbour')\n",
    "plt.show()\n",
    "sns.heatmap(cm_svm,annot=True,cbar=None,cmap = 'winter')\n",
    "plt.title('Support Vector Machine')\n",
    "plt.show()\n",
    "sns.heatmap(cm_dt,annot=True,cbar=None,cmap = 'cool')\n",
    "plt.title('Desicion Tree')\n",
    "plt.show()\n",
    "sns.heatmap(cm_rf,annot=True,cbar=None,cmap = 'autumn')\n",
    "plt.title('Random Forest')\n",
    "plt.show()"
   ]
  },
  {
   "cell_type": "code",
   "execution_count": 23,
   "metadata": {},
   "outputs": [
    {
     "name": "stdout",
     "output_type": "stream",
     "text": [
      "====================Logistic Regression====================\n",
      "             precision    recall  f1-score   support\n",
      "\n",
      "          0       1.00      1.00      1.00        27\n",
      "          1       0.86      0.86      0.86        35\n",
      "          2       0.94      0.94      0.94        36\n",
      "          3       0.93      0.90      0.91        29\n",
      "          4       0.82      0.93      0.87        30\n",
      "          5       0.92      0.90      0.91        40\n",
      "          6       0.96      0.98      0.97        44\n",
      "          7       0.97      0.95      0.96        39\n",
      "          8       0.91      0.77      0.83        39\n",
      "          9       0.84      0.93      0.88        41\n",
      "\n",
      "avg / total       0.92      0.91      0.91       360\n",
      "\n",
      "====================KNearest Neighbour====================\n",
      "             precision    recall  f1-score   support\n",
      "\n",
      "          0       0.96      1.00      0.98        27\n",
      "          1       0.75      0.94      0.84        35\n",
      "          2       1.00      1.00      1.00        36\n",
      "          3       0.90      0.93      0.92        29\n",
      "          4       0.97      0.93      0.95        30\n",
      "          5       0.93      0.93      0.93        40\n",
      "          6       0.96      1.00      0.98        44\n",
      "          7       0.97      1.00      0.99        39\n",
      "          8       0.96      0.69      0.81        39\n",
      "          9       0.92      0.88      0.90        41\n",
      "\n",
      "avg / total       0.93      0.93      0.93       360\n",
      "\n",
      "====================Support Vector Machine====================\n",
      "             precision    recall  f1-score   support\n",
      "\n",
      "          0       1.00      1.00      1.00        27\n",
      "          1       0.86      0.91      0.89        35\n",
      "          2       0.95      0.97      0.96        36\n",
      "          3       0.93      0.97      0.95        29\n",
      "          4       0.91      0.97      0.94        30\n",
      "          5       0.95      0.93      0.94        40\n",
      "          6       0.98      0.98      0.98        44\n",
      "          7       0.97      0.97      0.97        39\n",
      "          8       0.97      0.77      0.86        39\n",
      "          9       0.91      0.98      0.94        41\n",
      "\n",
      "avg / total       0.94      0.94      0.94       360\n",
      "\n",
      "====================Descion Tree====================\n",
      "             precision    recall  f1-score   support\n",
      "\n",
      "          0       0.96      0.89      0.92        27\n",
      "          1       0.75      0.86      0.80        35\n",
      "          2       0.76      0.72      0.74        36\n",
      "          3       0.75      0.83      0.79        29\n",
      "          4       0.90      0.87      0.88        30\n",
      "          5       0.94      0.82      0.88        40\n",
      "          6       0.87      0.91      0.89        44\n",
      "          7       0.88      0.92      0.90        39\n",
      "          8       0.71      0.64      0.68        39\n",
      "          9       0.77      0.80      0.79        41\n",
      "\n",
      "avg / total       0.83      0.82      0.82       360\n",
      "\n",
      "====================Random Forest====================\n",
      "             precision    recall  f1-score   support\n",
      "\n",
      "          0       1.00      0.96      0.98        27\n",
      "          1       0.89      0.97      0.93        35\n",
      "          2       1.00      0.97      0.99        36\n",
      "          3       1.00      0.93      0.96        29\n",
      "          4       0.97      0.97      0.97        30\n",
      "          5       0.95      0.93      0.94        40\n",
      "          6       0.98      1.00      0.99        44\n",
      "          7       0.95      1.00      0.97        39\n",
      "          8       1.00      0.87      0.93        39\n",
      "          9       0.89      0.98      0.93        41\n",
      "\n",
      "avg / total       0.96      0.96      0.96       360\n",
      "\n"
     ]
    }
   ],
   "source": [
    "print('='*20+'Logistic Regression'+'='*20)\n",
    "print(cr_log)\n",
    "print('='*20+'KNearest Neighbour'+'='*20)\n",
    "print(cr_knn)\n",
    "print('='*20+'Support Vector Machine'+'='*20)\n",
    "print(cr_svm)\n",
    "print('='*20+'Descion Tree'+'='*20)\n",
    "print(cr_dt)\n",
    "print('='*20+'Random Forest'+'='*20)\n",
    "print(cr_rf)"
   ]
  },
  {
   "cell_type": "markdown",
   "metadata": {},
   "source": [
    "**Saving and loading model**"
   ]
  },
  {
   "cell_type": "code",
   "execution_count": 24,
   "metadata": {},
   "outputs": [],
   "source": [
    "from sklearn.externals import joblib"
   ]
  },
  {
   "cell_type": "code",
   "execution_count": 25,
   "metadata": {},
   "outputs": [
    {
     "data": {
      "text/plain": [
       "['number_rec_rf.pkl']"
      ]
     },
     "execution_count": 25,
     "metadata": {},
     "output_type": "execute_result"
    }
   ],
   "source": [
    "joblib.dump(model_log,'number_rec_log.pkl')\n",
    "joblib.dump(model_knn,'number_rec_knn.pkl')\n",
    "joblib.dump(model_svm,'number_rec_svm.pkl')\n",
    "joblib.dump(model_dt,'number_rec_dt.pkl')\n",
    "joblib.dump(model_rf,'number_rec_rf.pkl')"
   ]
  },
  {
   "cell_type": "code",
   "execution_count": 26,
   "metadata": {},
   "outputs": [],
   "source": [
    "classify = joblib.load('number_rec_rf.pkl')"
   ]
  },
  {
   "cell_type": "markdown",
   "metadata": {},
   "source": [
    "**Tesing with new image**"
   ]
  },
  {
   "cell_type": "code",
   "execution_count": 27,
   "metadata": {},
   "outputs": [],
   "source": [
    "import cv2"
   ]
  },
  {
   "cell_type": "code",
   "execution_count": 28,
   "metadata": {},
   "outputs": [
    {
     "data": {
      "image/png": "[encoded data removed]",
      "text/plain": [
       "<matplotlib.figure.Figure at 0x21e96a9978>"
      ]
     },
     "metadata": {},
     "output_type": "display_data"
    }
   ],
   "source": [
    "# Step 1 : Read image\n",
    "img =cv2.imread('number2.jpg',0) # if you use zero it will convert into grayscale image\n",
    "# step 2: Thresholding\n",
    "ret, thresh = cv2.threshold(img,127,255,cv2.THRESH_BINARY_INV)\n",
    "# step 3 : Resize image\n",
    "img_re = cv2.resize(thresh,(8,8))\n",
    "# Step 4: reshape it to row matrix\n",
    "test = img_re.reshape((1,64))\n",
    "# Step 5: Normalize\n",
    "test = test/ test.max()\n",
    "plt.imshow(test,cmap ='gray')\n",
    "plt.show()"
   ]
  },
  {
   "cell_type": "code",
   "execution_count": 29,
   "metadata": {},
   "outputs": [
    {
     "data": {
      "text/plain": [
       "<matplotlib.image.AxesImage at 0x21ea991630>"
      ]
     },
     "execution_count": 29,
     "metadata": {},
     "output_type": "execute_result"
    },
    {
     "data": {
      "image/png": "[encoded data removed]",
      "text/plain": [
       "<matplotlib.figure.Figure at 0x21e96875c0>"
      ]
     },
     "metadata": {},
     "output_type": "display_data"
    }
   ],
   "source": [
    "plt.imshow(img_re)"
   ]
  },
  {
   "cell_type": "code",
   "execution_count": 30,
   "metadata": {},
   "outputs": [
    {
     "name": "stdout",
     "output_type": "stream",
     "text": [
      "LogisticRegression [2]\n",
      "KNearest Neighbour [2]\n",
      "Support Vector Machine [2]\n",
      "Desicion Tree [2]\n",
      "Random Forest [2]\n"
     ]
    }
   ],
   "source": [
    "print('LogisticRegression',model_log.predict(test))\n",
    "print('KNearest Neighbour', model_knn.predict(test))\n",
    "print('Support Vector Machine', model_svm.predict(test))\n",
    "print('Desicion Tree', model_dt.predict(test))\n",
    "print('Random Forest',model_rf.predict(test))"
   ]
  },
  {
   "cell_type": "markdown",
   "metadata": {},
   "source": [
    "# Real Time Number Detection"
   ]
  },
  {
   "cell_type": "code",
   "execution_count": 31,
   "metadata": {},
   "outputs": [],
   "source": [
    "cap = cv2.VideoCapture(0)\n",
    "\n",
    "while True:\n",
    "    _,img = cap.read()\n",
    "    gray = cv2.cvtColor(img,cv2.COLOR_BGR2GRAY)\n",
    "    blur = cv2.GaussianBlur(gray, (7,7),3)\n",
    "    _,th3 = cv2.threshold(gray,100,255,cv2.THRESH_BINARY_INV)\n",
    "    #th3 = cv2.adaptiveThreshold(blur,255,cv2.ADAPTIVE_THRESH_GAUSSIAN_C,cv2.THRESH_BINARY_INV,21,7)\n",
    "    im2, contours, hierarchy = cv2.findContours(th3,cv2.RETR_TREE,cv2.CHAIN_APPROX_SIMPLE)\n",
    "    areas = [cv2.contourArea(c) for c in contours]\n",
    "    ix = np.where(np.array(areas) > 300)[0]\n",
    "    result = np.array([1,0,0,0,0,0,0,0,0,0])\n",
    "    for i in ix:\n",
    "        cnt = contours[i]\n",
    "        xr,yr,wr,hr = cv2.boundingRect(cnt)\n",
    "        if xr< 20 :\n",
    "            xr = 25\n",
    "\n",
    "\n",
    "        if yr < 20:\n",
    "            yr = 25\n",
    "\n",
    "\n",
    "        cv2.rectangle(img,(xr-10,yr-10),(xr+wr+10,yr+hr+10), (0,255,0),2)\n",
    "        roi = th3[yr-20:yr+hr+20, xr-20:xr+wr+20]\n",
    "        \n",
    "        roi_re=cv2.resize(roi,(8,8))\n",
    "        g = roi_re.reshape(1,64).astype('float32')\n",
    "        g = g/255.0\n",
    "        \n",
    "        \n",
    "        result=  model_rf.predict(g)\n",
    "        #print(result)\n",
    "        font = cv2.FONT_HERSHEY_SIMPLEX\n",
    "        cv2.putText(img,'Number: '+str(result),(xr-10,yr-10), font, 0.4, (255,0,0), 1, cv2.LINE_AA)\n",
    "\n",
    "\n",
    "    cv2.imshow('Threshold',th3)\n",
    "    cv2.imshow('orginal',img)\n",
    "\n",
    "    if cv2.waitKey(41) & 0xff == ord('q'):\n",
    "        break\n",
    "        \n",
    "    \n",
    "    \n",
    "cap.release()    \n",
    "cv2.destroyAllWindows()"
   ]
  },
  {
   "cell_type": "code",
   "execution_count": null,
   "metadata": {},
   "outputs": [],
   "source": [
    "q"
   ]
  }
 ],
 "metadata": {
  "kernelspec": {
   "display_name": "Python 3",
   "language": "python",
   "name": "python3"
  },
  "language_info": {
   "codemirror_mode": {
    "name": "ipython",
    "version": 3
   },
   "file_extension": ".py",
   "mimetype": "text/x-python",
   "name": "python",
   "nbconvert_exporter": "python",
   "pygments_lexer": "ipython3",
   "version": "3.6.4"
  }
 },
 "nbformat": 4,
 "nbformat_minor": 2
}
