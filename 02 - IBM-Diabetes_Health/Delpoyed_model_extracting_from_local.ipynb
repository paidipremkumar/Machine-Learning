{
 "cells": [
  {
   "cell_type": "code",
   "execution_count": 1,
   "metadata": {},
   "outputs": [],
   "source": [
    "import urllib3, requests, json\n",
    "\n",
    "wml_credentials ={\n",
    "  \"username\": \"c2093216-62c2-4a63-8bc1-0c6ef066ecab\",\n",
    "  \"password\": \"bd5908e3-3f2b-4970-b17a-0c809b829cb3\",\n",
    "  \"instance_id\": \"975d53b1-34c4-4332-a0c9-e4dfee254cfb\",\n",
    "  \"url\": \"https://ibm-watson-ml.eu-gb.bluemix.net\"\n",
    "}"
   ]
  },
  {
   "cell_type": "code",
   "execution_count": 6,
   "metadata": {},
   "outputs": [],
   "source": [
    "model_inputs = [ 0.35,  0.74,  0.59,  0.35,  0., 0.50,  0.23,  0.48]"
   ]
  },
  {
   "cell_type": "code",
   "execution_count": 4,
   "metadata": {},
   "outputs": [],
   "source": [
    "deploy_url = 'https://ibm-watson-ml.eu-gb.bluemix.net/v3/wml_instances/975d53b1-34c4-4332-a0c9-e4dfee254cfb/published_models/08864136-e609-4b48-bab0-c6e3a1faaac7/deployments/81dc6135-3f78-4a3b-a281-48534dd3f96e/online'"
   ]
  },
  {
   "cell_type": "code",
   "execution_count": 7,
   "metadata": {},
   "outputs": [
    {
     "name": "stdout",
     "output_type": "stream",
     "text": [
      "Scoring response\n",
      "{'values': [[0, [0.6259376440685193, 0.3740623559314804]]], 'fields': ['prediction', 'probability']}\n"
     ]
    }
   ],
   "source": [
    "headers = urllib3.util.make_headers(basic_auth='{username}:{password}'.format(username=wml_credentials['username'], password=wml_credentials['password']))\n",
    "url = '{}/v3/identity/token'.format(wml_credentials['url'])\n",
    "response = requests.get(url, headers=headers)\n",
    "mltoken = json.loads(response.text).get('token')\n",
    "\n",
    "header = {'Content-Type': 'application/json', 'Authorization': 'Bearer ' + mltoken}\n",
    "\n",
    "# NOTE: manually define and pass the array(s) of values to be scored in the next line\n",
    "payload_scoring = {\"fields\": [\"f0\", \"f1\", \"f2\", \"f3\",\"f4\", \"f5\", \"f6\", \"f7\"], \"values\": [model_inputs]}\n",
    "\n",
    "response_scoring = requests.post(deploy_url, json=payload_scoring, headers=header)\n",
    "print(\"Scoring response\")\n",
    "result = json.loads(response_scoring.text)\n",
    "print(result)"
   ]
  },
  {
   "cell_type": "code",
   "execution_count": null,
   "metadata": {},
   "outputs": [],
   "source": []
  },
  {
   "cell_type": "code",
   "execution_count": 8,
   "metadata": {},
   "outputs": [
    {
     "data": {
      "text/plain": [
       "28.571428571428573"
      ]
     },
     "execution_count": 8,
     "metadata": {},
     "output_type": "execute_result"
    }
   ],
   "source": [
    "200/7"
   ]
  },
  {
   "cell_type": "code",
   "execution_count": null,
   "metadata": {},
   "outputs": [],
   "source": []
  }
 ],
 "metadata": {
  "kernelspec": {
   "display_name": "Python 3",
   "language": "python",
   "name": "python3"
  },
  "language_info": {
   "codemirror_mode": {
    "name": "ipython",
    "version": 3
   },
   "file_extension": ".py",
   "mimetype": "text/x-python",
   "name": "python",
   "nbconvert_exporter": "python",
   "pygments_lexer": "ipython3",
   "version": "3.6.4"
  }
 },
 "nbformat": 4,
 "nbformat_minor": 2
}
